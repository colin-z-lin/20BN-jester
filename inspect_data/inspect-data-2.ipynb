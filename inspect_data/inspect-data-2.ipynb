{
 "cells": [
  {
   "cell_type": "markdown",
   "metadata": {},
   "source": [
    "## Inspect Data ##"
   ]
  },
  {
   "cell_type": "code",
   "execution_count": 1,
   "metadata": {},
   "outputs": [],
   "source": [
    "import pandas as pd"
   ]
  },
  {
   "cell_type": "code",
   "execution_count": 6,
   "metadata": {},
   "outputs": [],
   "source": [
    "OUTPUT = '/home/clin/Springboard/Capstone/Jester/AllData/inspect_data_output.csv'\n",
    "df = pd.read_csv(OUTPUT)"
   ]
  },
  {
   "cell_type": "code",
   "execution_count": 7,
   "metadata": {},
   "outputs": [
    {
     "data": {
      "text/html": [
       "<div>\n",
       "<style scoped>\n",
       "    .dataframe tbody tr th:only-of-type {\n",
       "        vertical-align: middle;\n",
       "    }\n",
       "\n",
       "    .dataframe tbody tr th {\n",
       "        vertical-align: top;\n",
       "    }\n",
       "\n",
       "    .dataframe thead th {\n",
       "        text-align: right;\n",
       "    }\n",
       "</style>\n",
       "<table border=\"1\" class=\"dataframe\">\n",
       "  <thead>\n",
       "    <tr style=\"text-align: right;\">\n",
       "      <th></th>\n",
       "      <th>video_id</th>\n",
       "      <th>frame_count</th>\n",
       "      <th>width</th>\n",
       "      <th>height</th>\n",
       "      <th>depth</th>\n",
       "    </tr>\n",
       "  </thead>\n",
       "  <tbody>\n",
       "    <tr>\n",
       "      <th>0</th>\n",
       "      <td>69259</td>\n",
       "      <td>37</td>\n",
       "      <td>100</td>\n",
       "      <td>176</td>\n",
       "      <td>3</td>\n",
       "    </tr>\n",
       "    <tr>\n",
       "      <th>1</th>\n",
       "      <td>69259</td>\n",
       "      <td>37</td>\n",
       "      <td>100</td>\n",
       "      <td>176</td>\n",
       "      <td>3</td>\n",
       "    </tr>\n",
       "    <tr>\n",
       "      <th>2</th>\n",
       "      <td>69259</td>\n",
       "      <td>37</td>\n",
       "      <td>100</td>\n",
       "      <td>176</td>\n",
       "      <td>3</td>\n",
       "    </tr>\n",
       "    <tr>\n",
       "      <th>3</th>\n",
       "      <td>69259</td>\n",
       "      <td>37</td>\n",
       "      <td>100</td>\n",
       "      <td>176</td>\n",
       "      <td>3</td>\n",
       "    </tr>\n",
       "    <tr>\n",
       "      <th>4</th>\n",
       "      <td>69259</td>\n",
       "      <td>37</td>\n",
       "      <td>100</td>\n",
       "      <td>176</td>\n",
       "      <td>3</td>\n",
       "    </tr>\n",
       "    <tr>\n",
       "      <th>...</th>\n",
       "      <td>...</td>\n",
       "      <td>...</td>\n",
       "      <td>...</td>\n",
       "      <td>...</td>\n",
       "      <td>...</td>\n",
       "    </tr>\n",
       "    <tr>\n",
       "      <th>5279576</th>\n",
       "      <td>110503</td>\n",
       "      <td>37</td>\n",
       "      <td>100</td>\n",
       "      <td>176</td>\n",
       "      <td>3</td>\n",
       "    </tr>\n",
       "    <tr>\n",
       "      <th>5279577</th>\n",
       "      <td>110503</td>\n",
       "      <td>37</td>\n",
       "      <td>100</td>\n",
       "      <td>176</td>\n",
       "      <td>3</td>\n",
       "    </tr>\n",
       "    <tr>\n",
       "      <th>5279578</th>\n",
       "      <td>110503</td>\n",
       "      <td>37</td>\n",
       "      <td>100</td>\n",
       "      <td>176</td>\n",
       "      <td>3</td>\n",
       "    </tr>\n",
       "    <tr>\n",
       "      <th>5279579</th>\n",
       "      <td>110503</td>\n",
       "      <td>37</td>\n",
       "      <td>100</td>\n",
       "      <td>176</td>\n",
       "      <td>3</td>\n",
       "    </tr>\n",
       "    <tr>\n",
       "      <th>5279580</th>\n",
       "      <td>110503</td>\n",
       "      <td>37</td>\n",
       "      <td>100</td>\n",
       "      <td>176</td>\n",
       "      <td>3</td>\n",
       "    </tr>\n",
       "  </tbody>\n",
       "</table>\n",
       "<p>5279581 rows × 5 columns</p>\n",
       "</div>"
      ],
      "text/plain": [
       "         video_id  frame_count  width  height  depth\n",
       "0           69259           37    100     176      3\n",
       "1           69259           37    100     176      3\n",
       "2           69259           37    100     176      3\n",
       "3           69259           37    100     176      3\n",
       "4           69259           37    100     176      3\n",
       "...           ...          ...    ...     ...    ...\n",
       "5279576    110503           37    100     176      3\n",
       "5279577    110503           37    100     176      3\n",
       "5279578    110503           37    100     176      3\n",
       "5279579    110503           37    100     176      3\n",
       "5279580    110503           37    100     176      3\n",
       "\n",
       "[5279581 rows x 5 columns]"
      ]
     },
     "execution_count": 7,
     "metadata": {},
     "output_type": "execute_result"
    }
   ],
   "source": [
    "df"
   ]
  },
  {
   "cell_type": "code",
   "execution_count": 8,
   "metadata": {},
   "outputs": [
    {
     "data": {
      "text/plain": [
       "37    2384576\n",
       "36    1033668\n",
       "35     403480\n",
       "33     381315\n",
       "34     367302\n",
       "38     296704\n",
       "32     201120\n",
       "31      62000\n",
       "39      38766\n",
       "30      28440\n",
       "29      13775\n",
       "23      13409\n",
       "28       9856\n",
       "40       7280\n",
       "25       6600\n",
       "24       5928\n",
       "26       5616\n",
       "27       4698\n",
       "22       2464\n",
       "41       1927\n",
       "42       1722\n",
       "19       1064\n",
       "44       1012\n",
       "21        966\n",
       "20        940\n",
       "46        736\n",
       "45        720\n",
       "43        688\n",
       "47        376\n",
       "48        336\n",
       "51        204\n",
       "49        196\n",
       "14        182\n",
       "16        176\n",
       "18        162\n",
       "50        150\n",
       "17        136\n",
       "15        135\n",
       "13        117\n",
       "56        112\n",
       "70         70\n",
       "69         69\n",
       "67         67\n",
       "65         65\n",
       "63         63\n",
       "62         62\n",
       "54         54\n",
       "53         53\n",
       "12         24\n",
       "Name: frame_count, dtype: int64"
      ]
     },
     "execution_count": 8,
     "metadata": {},
     "output_type": "execute_result"
    }
   ],
   "source": [
    "# Should probably use a maximum of 40 frames\n",
    "df['frame_count'].value_counts()"
   ]
  },
  {
   "cell_type": "code",
   "execution_count": 9,
   "metadata": {},
   "outputs": [
    {
     "data": {
      "text/plain": [
       "100    5279581\n",
       "Name: width, dtype: int64"
      ]
     },
     "execution_count": 9,
     "metadata": {},
     "output_type": "execute_result"
    }
   ],
   "source": [
    "# Width is always 100\n",
    "\n",
    "df['width'].value_counts()"
   ]
  },
  {
   "cell_type": "code",
   "execution_count": 10,
   "metadata": {},
   "outputs": [
    {
     "data": {
      "text/plain": [
       "176    3886000\n",
       "132    1345298\n",
       "100      30514\n",
       "142      12531\n",
       "122       1715\n",
       "160       1383\n",
       "106       1377\n",
       "172        763\n",
       "Name: height, dtype: int64"
      ]
     },
     "execution_count": 10,
     "metadata": {},
     "output_type": "execute_result"
    }
   ],
   "source": [
    "# Most images have a height of 176, \n",
    "\n",
    "df['height'].value_counts()"
   ]
  },
  {
   "cell_type": "code",
   "execution_count": 11,
   "metadata": {},
   "outputs": [
    {
     "data": {
      "text/plain": [
       "3    5279581\n",
       "Name: depth, dtype: int64"
      ]
     },
     "execution_count": 11,
     "metadata": {},
     "output_type": "execute_result"
    }
   ],
   "source": [
    "# Depth is always 3\n",
    "\n",
    "df['depth'].value_counts()"
   ]
  },
  {
   "cell_type": "code",
   "execution_count": 12,
   "metadata": {},
   "outputs": [],
   "source": [
    "df = pd.read_csv('/home/clin/Springboard/Capstone/Jester/AllData/jester-v1-train.csv', header = None, sep = ';')"
   ]
  },
  {
   "cell_type": "code",
   "execution_count": 13,
   "metadata": {},
   "outputs": [
    {
     "data": {
      "text/plain": [
       "Doing other things               9592\n",
       "Thumb Down                       4390\n",
       "Thumb Up                         4373\n",
       "Drumming Fingers                 4371\n",
       "Pushing Hand Away                4357\n",
       "Sliding Two Fingers Down         4348\n",
       "Stop Sign                        4337\n",
       "Zooming Out With Two Fingers     4323\n",
       "Pulling Hand In                  4323\n",
       "Zooming In With Two Fingers      4302\n",
       "Sliding Two Fingers Left         4292\n",
       "Pushing Two Fingers Away         4291\n",
       "Zooming Out With Full Hand       4281\n",
       "No gesture                       4278\n",
       "Pulling Two Fingers In           4267\n",
       "Swiping Down                     4259\n",
       "Shaking Hand                     4258\n",
       "Zooming In With Full Hand        4251\n",
       "Swiping Up                       4220\n",
       "Sliding Two Fingers Up           4219\n",
       "Sliding Two Fingers Right        4206\n",
       "Swiping Left                     4162\n",
       "Rolling Hand Forward             4132\n",
       "Swiping Right                    4084\n",
       "Rolling Hand Backward            4032\n",
       "Turning Hand Counterclockwise    3398\n",
       "Turning Hand Clockwise           3216\n",
       "Name: 1, dtype: int64"
      ]
     },
     "execution_count": 13,
     "metadata": {},
     "output_type": "execute_result"
    }
   ],
   "source": [
    "df[1].value_counts()"
   ]
  },
  {
   "cell_type": "code",
   "execution_count": null,
   "metadata": {},
   "outputs": [],
   "source": []
  }
 ],
 "metadata": {
  "kernelspec": {
   "display_name": "Python 3",
   "language": "python",
   "name": "python3"
  },
  "language_info": {
   "codemirror_mode": {
    "name": "ipython",
    "version": 3
   },
   "file_extension": ".py",
   "mimetype": "text/x-python",
   "name": "python",
   "nbconvert_exporter": "python",
   "pygments_lexer": "ipython3",
   "version": "3.8.2"
  }
 },
 "nbformat": 4,
 "nbformat_minor": 4
}
