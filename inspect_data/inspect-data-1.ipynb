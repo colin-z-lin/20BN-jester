{
 "cells": [
  {
   "cell_type": "markdown",
   "metadata": {},
   "source": [
    "#### jester-v1-test.csv:  14,743\n",
    "#### jester-v1-train.csv: 118,562\n",
    "#### jester-v1-validation.csv: 14,787\n",
    "#### Labels: 27\n",
    "#### Total images in RawData folder: 148,092\n",
    "#### Total images in Metadata folder: 148,092"
   ]
  },
  {
   "cell_type": "code",
   "execution_count": 1,
   "metadata": {},
   "outputs": [],
   "source": [
    "import pandas as pd\n",
    "\n",
    "ROOT_DIR = '/home/clin/Springboard/Capstone/Jester/AllData'\n",
    "\n",
    "df_train = pd.read_csv(ROOT_DIR + '/jester-v1-train.csv', header = None, sep = ';')\n",
    "df_valid = pd.read_csv(ROOT_DIR + '/jester-v1-validation.csv', header = None, sep = ';')\n",
    "\n",
    "with open(ROOT_DIR + '/jester-v1-labels.csv', 'r') as f:\n",
    "    lines = f.readlines()\n",
    "    labels = []\n",
    "    for l in lines:\n",
    "        labels.append(l.strip())"
   ]
  },
  {
   "cell_type": "code",
   "execution_count": 2,
   "metadata": {},
   "outputs": [],
   "source": [
    "# Get unique labels in training and validation \n",
    "# datasets\n",
    "\n",
    "train_labels = df_train[1].unique()\n",
    "valid_labels = df_valid[1].unique()"
   ]
  },
  {
   "cell_type": "code",
   "execution_count": 3,
   "metadata": {},
   "outputs": [],
   "source": [
    "# Make sure both training dataset and validation\n",
    "# dataset have all the labels\n",
    "\n",
    "assert len(train_labels) == len(valid_labels)\n",
    "assert len(train_labels) == len(labels)"
   ]
  },
  {
   "cell_type": "code",
   "execution_count": 4,
   "metadata": {},
   "outputs": [],
   "source": [
    "# Make sure all lables in training dataset and\n",
    "# validation dataset are in the labels dataset\n",
    "\n",
    "for l in train_labels:\n",
    "    assert(l in labels)\n",
    "\n",
    "for l in valid_labels:\n",
    "    assert(l in labels)\n"
   ]
  },
  {
   "cell_type": "code",
   "execution_count": null,
   "metadata": {},
   "outputs": [],
   "source": []
  }
 ],
 "metadata": {
  "kernelspec": {
   "display_name": "Python 3",
   "language": "python",
   "name": "python3"
  },
  "language_info": {
   "codemirror_mode": {
    "name": "ipython",
    "version": 3
   },
   "file_extension": ".py",
   "mimetype": "text/x-python",
   "name": "python",
   "nbconvert_exporter": "python",
   "pygments_lexer": "ipython3",
   "version": "3.8.2"
  }
 },
 "nbformat": 4,
 "nbformat_minor": 4
}
