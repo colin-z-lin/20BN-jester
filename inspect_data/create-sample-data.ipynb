{
 "cells": [
  {
   "cell_type": "code",
   "execution_count": 1,
   "metadata": {},
   "outputs": [],
   "source": [
    "import os\n",
    "import pandas as pd\n",
    "from distutils.dir_util import copy_tree"
   ]
  },
  {
   "cell_type": "code",
   "execution_count": 2,
   "metadata": {},
   "outputs": [],
   "source": [
    "def get_data_subset(sample_labels, input_csv_file, input_video_dir, output_csv_file, output_video_dir):\n",
    "    df = pd.read_csv(input_csv_file, header = None, sep = ';')\n",
    "    df = df.rename({0: 'video_id', 1: 'label'}, axis = 'columns')\n",
    "    print(df.shape)\n",
    "    \n",
    "    sample_data = []\n",
    "\n",
    "    for label in sample_labels:\n",
    "        df_subset = df[df['label'] == label]\n",
    "        for _, row in df_subset.iterrows():\n",
    "            sample_data.append('{};{}\\n'.format(row['video_id'], row['label']))\n",
    "\n",
    "            from_dir = (input_video_dir + '/{}').format(row['video_id'])\n",
    "            to_dir = (output_video_dir + '/{}').format(row['video_id'])\n",
    "            copy_tree(from_dir, to_dir)\n",
    "\n",
    "    print('# of sample data: ', len(sample_data))\n",
    "\n",
    "    with open(output_csv_file, 'w') as f:\n",
    "        f.writelines(sample_data)\n"
   ]
  },
  {
   "cell_type": "code",
   "execution_count": 3,
   "metadata": {},
   "outputs": [],
   "source": [
    "ROOT_DIR = '/home/clin/Springboard/Capstone/Jester'\n",
    "\n",
    "SAMPLE_LABELS = ['Swiping Left', 'Swiping Right']"
   ]
  },
  {
   "cell_type": "code",
   "execution_count": 4,
   "metadata": {},
   "outputs": [
    {
     "name": "stdout",
     "output_type": "stream",
     "text": [
      "(118562, 2)\n",
      "# of sample data:  8246\n",
      "(14787, 2)\n",
      "# of sample data:  980\n"
     ]
    }
   ],
   "source": [
    "for data_type in ['train', 'validation']:\n",
    "    get_data_subset(SAMPLE_LABELS,\n",
    "                    ROOT_DIR + '/AllData/jester-v1-{}.csv'.format(data_type),\n",
    "                    ROOT_DIR + '/AllData/videos',\n",
    "                    ROOT_DIR + '/Samples/{}.csv'.format(data_type),\n",
    "                    ROOT_DIR + '/Samples/{}'.format(data_type))"
   ]
  }
 ],
 "metadata": {
  "kernelspec": {
   "display_name": "Python 3",
   "language": "python",
   "name": "python3"
  },
  "language_info": {
   "codemirror_mode": {
    "name": "ipython",
    "version": 3
   },
   "file_extension": ".py",
   "mimetype": "text/x-python",
   "name": "python",
   "nbconvert_exporter": "python",
   "pygments_lexer": "ipython3",
   "version": "3.8.2"
  }
 },
 "nbformat": 4,
 "nbformat_minor": 4
}
