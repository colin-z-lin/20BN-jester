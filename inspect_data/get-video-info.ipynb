{
 "cells": [
  {
   "cell_type": "markdown",
   "metadata": {},
   "source": [
    "Get each video's number of frames, width, height, depth"
   ]
  },
  {
   "cell_type": "code",
   "execution_count": 1,
   "metadata": {},
   "outputs": [],
   "source": [
    "import numpy as np\n",
    "import cv2\n",
    "import os"
   ]
  },
  {
   "cell_type": "code",
   "execution_count": 2,
   "metadata": {},
   "outputs": [],
   "source": [
    "ROOT_DIR = '/home/clin/Springboard/Capstone/Jester/AllData'\n",
    "VIDEO_DIR = ROOT_DIR + '/videos'\n",
    "OUTPUT = ROOT_DIR + '/inspect_data_output.csv'"
   ]
  },
  {
   "cell_type": "code",
   "execution_count": 3,
   "metadata": {},
   "outputs": [],
   "source": [
    "data = []\n",
    "data.append('video_id,frame_count,width,height,depth\\n')"
   ]
  },
  {
   "cell_type": "code",
   "execution_count": 4,
   "metadata": {},
   "outputs": [],
   "source": [
    "def get_video_info(dir_path, video_id):\n",
    "    frame_list = os.listdir(os.path.join(dir_path, video_id))\n",
    "    frame_count = len(frame_list)\n",
    "    \n",
    "    for frame in frame_list:\n",
    "        img = cv2.imread(os.path.join(dir_path, video_id, frame))\n",
    "        width, height, depth = img.shape\n",
    "        data.append('{},{},{},{},{}\\n'.format(video_id, frame_count, width, height, depth))"
   ]
  },
  {
   "cell_type": "code",
   "execution_count": 5,
   "metadata": {},
   "outputs": [],
   "source": [
    "video_id_list = os.listdir(VIDEO_DIR)\n",
    "\n",
    "for video_id in video_id_list:\n",
    "    get_video_info(VIDEO_DIR, video_id)\n",
    "\n",
    "with open(OUTPUT, 'w') as f:\n",
    "    f.writelines(data)"
   ]
  },
  {
   "cell_type": "code",
   "execution_count": null,
   "metadata": {},
   "outputs": [],
   "source": []
  }
 ],
 "metadata": {
  "kernelspec": {
   "display_name": "Python 3",
   "language": "python",
   "name": "python3"
  },
  "language_info": {
   "codemirror_mode": {
    "name": "ipython",
    "version": 3
   },
   "file_extension": ".py",
   "mimetype": "text/x-python",
   "name": "python",
   "nbconvert_exporter": "python",
   "pygments_lexer": "ipython3",
   "version": "3.8.2"
  }
 },
 "nbformat": 4,
 "nbformat_minor": 4
}
